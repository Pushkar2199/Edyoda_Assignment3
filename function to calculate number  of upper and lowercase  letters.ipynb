{
 "cells": [
  {
   "cell_type": "code",
   "execution_count": 34,
   "id": "dc52cefd",
   "metadata": {},
   "outputs": [
    {
     "name": "stdout",
     "output_type": "stream",
     "text": [
      "enter string :The quick Brow Fox\n",
      "No. of Upper case characters : 3\n",
      "No. of Lower case characters : 12\n"
     ]
    }
   ],
   "source": [
    "def fun(x) :\n",
    "    upper = 0\n",
    "    lower = 0\n",
    "    for i in x :\n",
    "        if i.isupper() :\n",
    "            upper += 1\n",
    "        elif i.islower() :    \n",
    "            lower += 1           \n",
    "            \n",
    "    print(\"No. of Upper case characters :\",upper)\n",
    "    print(\"No. of Lower case characters :\",lower)            \n",
    "    \n",
    "fun(input(\"enter string :\"))            "
   ]
  },
  {
   "cell_type": "code",
   "execution_count": null,
   "id": "81d02e62",
   "metadata": {},
   "outputs": [],
   "source": [
    "No. of Upper case characters : 3\n",
    "\n",
    "No. of Lower case Characters : 12\n",
    "\n"
   ]
  }
 ],
 "metadata": {
  "kernelspec": {
   "display_name": "Python 3 (ipykernel)",
   "language": "python",
   "name": "python3"
  },
  "language_info": {
   "codemirror_mode": {
    "name": "ipython",
    "version": 3
   },
   "file_extension": ".py",
   "mimetype": "text/x-python",
   "name": "python",
   "nbconvert_exporter": "python",
   "pygments_lexer": "ipython3",
   "version": "3.10.1"
  }
 },
 "nbformat": 4,
 "nbformat_minor": 5
}
