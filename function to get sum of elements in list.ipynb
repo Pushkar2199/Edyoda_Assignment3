{
 "cells": [
  {
   "cell_type": "code",
   "execution_count": 5,
   "id": "86acb80b",
   "metadata": {},
   "outputs": [
    {
     "name": "stdout",
     "output_type": "stream",
     "text": [
      "8+2+3+0+7 = 20\n"
     ]
    }
   ],
   "source": [
    "l = [8, 2, 3, 0, 7]\n",
    "def fun(s) :\n",
    "    count = 0\n",
    "    for i in l :\n",
    "        count  +=  i\n",
    "    print(\"8+2+3+0+7 =\",count)\n",
    "fun(l)  \n"
   ]
  },
  {
   "cell_type": "code",
   "execution_count": null,
   "id": "34885efd",
   "metadata": {},
   "outputs": [],
   "source": []
  }
 ],
 "metadata": {
  "kernelspec": {
   "display_name": "Python 3 (ipykernel)",
   "language": "python",
   "name": "python3"
  },
  "language_info": {
   "codemirror_mode": {
    "name": "ipython",
    "version": 3
   },
   "file_extension": ".py",
   "mimetype": "text/x-python",
   "name": "python",
   "nbconvert_exporter": "python",
   "pygments_lexer": "ipython3",
   "version": "3.10.1"
  }
 },
 "nbformat": 4,
 "nbformat_minor": 5
}
